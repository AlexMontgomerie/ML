{
 "cells": [
  {
   "cell_type": "markdown",
   "metadata": {},
   "source": [
    "## Imports"
   ]
  },
  {
   "cell_type": "code",
   "execution_count": 11,
   "metadata": {},
   "outputs": [],
   "source": [
    "from matplotlib import pyplot as plt\n",
    "from sklearn import linear_model\n",
    "from sklearn.metrics import accuracy_score\n",
    "import numpy as np\n",
    "import seaborn as sns\n",
    "from sklearn.svm import SVC\n",
    "from sklearn.model_selection import KFold\n",
    "from sklearn.metrics import mean_absolute_error\n",
    "from sklearn.model_selection import learning_curve\n",
    "from sklearn.model_selection import validation_curve"
   ]
  },
  {
   "cell_type": "markdown",
   "metadata": {},
   "source": [
    "## definitions"
   ]
  },
  {
   "cell_type": "code",
   "execution_count": 2,
   "metadata": {},
   "outputs": [],
   "source": [
    "np.random.seed(0)\n",
    "NUM_FEATURE = 12\n",
    "RANDOM_DATA = True"
   ]
  },
  {
   "cell_type": "code",
   "execution_count": 3,
   "metadata": {},
   "outputs": [],
   "source": [
    "def get_data(red=False):\n",
    "    #get red wine data  \n",
    "    red_data = np.genfromtxt('../data/winequality-red.csv',delimiter=';')\n",
    "    red_data = np.delete(red_data,(0),axis=0)\n",
    "    red_feature = np.array([[1 for i in range(red_data.shape[0])]])\n",
    "    red_y = np.array([red_data[:,11]])\n",
    "    red_data = np.append(red_data[:,0:11],red_feature.T,axis=1)\n",
    "    red_data = np.append(red_data,red_y.T,axis=1)\n",
    "    print\n",
    "    if red:\n",
    "        return red_data\n",
    "        #get white wine data\n",
    "    white_data = np.genfromtxt('../data/winequality-white.csv',delimiter=';')\n",
    "    white_data = np.delete(white_data,(0),axis=0)\n",
    "    white_feature = np.array([[-1 for i in range(white_data.shape[0])]])\n",
    "    white_y = np.array([white_data[:,11]])\n",
    "    white_data = np.append(white_data[:,0:11],white_feature.T,axis=1)\n",
    "    white_data = np.append(white_data,white_y.T,axis=1)\n",
    "    #combine the 2\n",
    "    data = np.append(red_data,white_data,axis=0)\n",
    "    if RANDOM_DATA:\n",
    "        np.random.shuffle(data)\n",
    "    return data"
   ]
  },
  {
   "cell_type": "markdown",
   "metadata": {},
   "source": [
    "## Data Split\n",
    "split 80% training, 20% test Normalised using training data"
   ]
  },
  {
   "cell_type": "code",
   "execution_count": 4,
   "metadata": {},
   "outputs": [],
   "source": [
    "def split_data(data,train_split=0.8):\n",
    "    #train,test,val\n",
    "    train,test = np.split(data, [int(train_split*data.shape[0])])\n",
    "\n",
    "    train_x,train_y = np.hsplit(train,[NUM_FEATURE])\n",
    "    test_x,test_y   = np.hsplit(test, [NUM_FEATURE])\n",
    "    \n",
    "    for i in range(NUM_FEATURE):\n",
    "        mean  = train_x[:,i].mean()\n",
    "        std   = train_x[:,i].std() \n",
    "    \n",
    "        #normalise training data\n",
    "        train[:,i] = (train_x[:,i] - mean)/std\n",
    "        #normalise test data  \n",
    "        test[:,i] = (test_x[:,i] - mean)/std\n",
    "  \n",
    "    return train_x,train_y,test_x,test_y\n"
   ]
  },
  {
   "cell_type": "markdown",
   "metadata": {},
   "source": [
    "## Loss Function Definitions\n",
    "Used for working out loss and errors."
   ]
  },
  {
   "cell_type": "code",
   "execution_count": 5,
   "metadata": {},
   "outputs": [],
   "source": [
    "def square_loss(y,pred_y):\n",
    "    return ((y-pred_y)**2).mean()\n",
    "\n",
    "def mae_loss(y,pred_y):\n",
    "    return abs(y-pred_y).mean()\n",
    "  \n",
    "def identity_loss(y,pred_y):\n",
    "    N = len(y)\n",
    "    error_sum = 0\n",
    "    for i in range(N):\n",
    "        if y[i] != pred_y[i]:\n",
    "            error_sum += 1\n",
    "    return error_sum/N"
   ]
  },
  {
   "cell_type": "markdown",
   "metadata": {},
   "source": [
    "## Cross-Validation "
   ]
  },
  {
   "cell_type": "code",
   "execution_count": 6,
   "metadata": {},
   "outputs": [],
   "source": [
    "def cross_validation(train_x,train_y,model,k=10,loss=square_loss):\n",
    "    #split into K folds\n",
    "    data = np.concatenate((train_x,train_y),axis=1)\n",
    "    kf = KFold(n_splits=k)\n",
    "\n",
    "    error_sum = 0\n",
    "    for train,test in kf.split(data):\n",
    "        train_data  = np.array(data)[train]  \n",
    "        test_data   = np.array(data)[test]  \n",
    "        train_x, train_y  = np.hsplit(train_data,[NUM_FEATURE])\n",
    "        test_x , test_y   = np.hsplit(test_data,[NUM_FEATURE])\n",
    "        model.fit(train_x,train_y)\n",
    "        pred_y = model.predict(test_x)\n",
    "        error_sum += loss(test_y,pred_y)\n",
    "\n",
    "    return error_sum/k    "
   ]
  },
  {
   "cell_type": "markdown",
   "metadata": {},
   "source": [
    "## Regression Models"
   ]
  },
  {
   "cell_type": "code",
   "execution_count": 7,
   "metadata": {},
   "outputs": [],
   "source": [
    "def sk_lin_regr(data):\n",
    "    #data = normalise(data) \n",
    "    train_x,train_y,test_x,test_y = split_data(data)\n",
    "    regr = linear_model.LinearRegression() \n",
    "    regr.fit(train_x,train_y)\n",
    "    pred_y = regr.predict(test_x)\n",
    "    print(\"(sk) linear regression MAE: \",mean_absolute_error(test_y,pred_y))\n",
    "    return regr\n",
    "\n",
    "def sk_lasso_regr(data,alpha=0.1):\n",
    "    #data = normalise(data) \n",
    "    train_x,train_y,test_x,test_y = split_data(data)\n",
    "    regr = linear_model.Lasso(alpha) \n",
    "    regr.fit(train_x,train_y)\n",
    "    pred_y = regr.predict(test_x)\n",
    "    print(\"(sk) linear regression Lasso MAE: \",mean_absolute_error(test_y,pred_y))\n",
    "    return regr\n",
    "\n",
    "def sk_ridge_regr(data,alpha=0.1):\n",
    "    #data = normalise(data) \n",
    "    train_x,train_y,test_x,test_y = split_data(data)\n",
    "    regr = linear_model.Ridge(alpha) \n",
    "    regr.fit(train_x,train_y)\n",
    "    pred_y = regr.predict(train_x)\n",
    "    pred_y = regr.predict(test_x)\n",
    "    print(\"(sk) linear regression Ridge MAE: \",mean_absolute_error(test_y,pred_y))\n",
    "    return regr\n",
    "\n",
    "def sk_elastic_regr(data,alpha=0.1, l1_ratio=0.5):\n",
    "    #data = normalise(data) \n",
    "    train_x,train_y,test_x,test_y = split_data(data)\n",
    "    regr = linear_model.ElasticNet(alpha, l1_ratio) \n",
    "    regr.fit(train_x,train_y)\n",
    "    pred_y = regr.predict(test_x)\n",
    "    pred_y = classify(pred_y)\n",
    "    print(\"(sk) linear regression Elastic Net MAE: \",mean_absolute_error(test_y,pred_y))\n",
    "    return regr\n"
   ]
  },
  {
   "cell_type": "markdown",
   "metadata": {},
   "source": [
    "## Training Graph"
   ]
  },
  {
   "cell_type": "code",
   "execution_count": 8,
   "metadata": {},
   "outputs": [],
   "source": [
    "def plot_learning_curve(estimator, title, X, y, ylim=None, cv=None,\n",
    "                        n_jobs=1, train_sizes=np.linspace(.1, 1.0, 5)):\n",
    "\n",
    "    plt.figure()\n",
    "    plt.title(title)\n",
    "    if ylim is not None:\n",
    "        plt.ylim(*ylim)\n",
    "    plt.xlabel(\"Training examples\")\n",
    "    plt.ylabel(\"Score\")\n",
    "    train_sizes, train_scores, test_scores = learning_curve(\n",
    "        estimator, X, y, cv=cv, n_jobs=n_jobs,scoring='neg_mean_absolute_error', train_sizes=train_sizes)\n",
    "    train_scores_mean = np.mean(train_scores, axis=1)\n",
    "    train_scores_std = np.std(train_scores, axis=1)\n",
    "    test_scores_mean = np.mean(test_scores, axis=1)\n",
    "    test_scores_std = np.std(test_scores, axis=1)\n",
    "    plt.grid()\n",
    "\n",
    "    plt.fill_between(train_sizes, train_scores_mean - train_scores_std,\n",
    "                     train_scores_mean + train_scores_std, alpha=0.1,\n",
    "                     color=\"r\")\n",
    "    plt.fill_between(train_sizes, test_scores_mean - test_scores_std,\n",
    "                     test_scores_mean + test_scores_std, alpha=0.1, color=\"g\")\n",
    "    plt.plot(train_sizes, train_scores_mean, 'o-', color=\"r\",\n",
    "             label=\"Training score\")\n",
    "    plt.plot(train_sizes, test_scores_mean, 'o-', color=\"g\",\n",
    "             label=\"Cross-validation score\")\n",
    "\n",
    "    plt.legend(loc=\"best\")\n",
    "    return plt"
   ]
  },
  {
   "cell_type": "code",
   "execution_count": 9,
   "metadata": {},
   "outputs": [],
   "source": [
    "def plot_validation_curve(estimator, title, scoring, param_name,param_range):\n",
    "    param_range = np.logspace(-6, -1, 5)\n",
    "    train_scores, test_scores = validation_curve(\n",
    "        estimator, X, y, param_name, param_range=param_range, cv=10, scoring=scoring, n_jobs=1)\n",
    "    train_scores_mean = np.mean(train_scores, axis=1)\n",
    "    train_scores_std = np.std(train_scores, axis=1)\n",
    "    test_scores_mean = np.mean(test_scores, axis=1)\n",
    "    test_scores_std = np.std(test_scores, axis=1)\n",
    "\n",
    "    plt.title(\"Validation Curve with SVM\")\n",
    "    plt.xlabel(\"$\\gamma$\")\n",
    "    plt.ylabel(\"Score\")\n",
    "    plt.ylim(0.0, 1.1)\n",
    "    lw = 2\n",
    "    plt.semilogx(param_range, train_scores_mean, label=\"Training score\",\n",
    "                 color=\"darkorange\", lw=lw)\n",
    "    plt.fill_between(param_range, train_scores_mean - train_scores_std,\n",
    "                     train_scores_mean + train_scores_std, alpha=0.2,\n",
    "                     color=\"darkorange\", lw=lw)\n",
    "    plt.semilogx(param_range, test_scores_mean, label=\"Cross-validation score\",\n",
    "                 color=\"navy\", lw=lw)\n",
    "    plt.fill_between(param_range, test_scores_mean - test_scores_std,\n",
    "                     test_scores_mean + test_scores_std, alpha=0.2,\n",
    "                     color=\"navy\", lw=lw)\n",
    "    plt.legend(loc=\"best\")\n",
    "    return plt"
   ]
  },
  {
   "cell_type": "code",
   "execution_count": 14,
   "metadata": {},
   "outputs": [
    {
     "name": "stdout",
     "output_type": "stream",
     "text": [
      "(sk) linear regression MAE:  0.5559275589298355\n"
     ]
    },
    {
     "data": {
      "image/png": "[encoded data removed]",
      "text/plain": [
       "<matplotlib.figure.Figure at 0x7f575fabfdd8>"
      ]
     },
     "metadata": {},
     "output_type": "display_data"
    }
   ],
   "source": [
    "data = get_data(False) \n",
    "train_x,train_y,test_x,test_y = split_data(data)\n",
    "model = sk_lin_regr(data)\n",
    "plot_learning_curve(model, \"test\", train_x, train_y,cv=10)\n",
    "plt.show()\n",
    " "
   ]
  },
  {
   "cell_type": "code",
   "execution_count": null,
   "metadata": {},
   "outputs": [],
   "source": []
  },
  {
   "cell_type": "code",
   "execution_count": null,
   "metadata": {},
   "outputs": [],
   "source": []
  },
  {
   "cell_type": "code",
   "execution_count": null,
   "metadata": {},
   "outputs": [],
   "source": []
  }
 ],
 "metadata": {
  "kernelspec": {
   "display_name": "Python 3",
   "language": "python",
   "name": "python3"
  },
  "language_info": {
   "codemirror_mode": {
    "name": "ipython",
    "version": 3
   },
   "file_extension": ".py",
   "mimetype": "text/x-python",
   "name": "python",
   "nbconvert_exporter": "python",
   "pygments_lexer": "ipython3",
   "version": "3.5.2"
  }
 },
 "nbformat": 4,
 "nbformat_minor": 2
}
